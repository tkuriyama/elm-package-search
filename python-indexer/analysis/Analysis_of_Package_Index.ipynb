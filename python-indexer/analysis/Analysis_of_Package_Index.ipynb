{
 "cells": [
  {
   "cell_type": "markdown",
   "id": "960fa3ae",
   "metadata": {},
   "source": [
    "# Setup"
   ]
  },
  {
   "cell_type": "code",
   "execution_count": 1,
   "id": "a7b554f6",
   "metadata": {},
   "outputs": [],
   "source": [
    "import matplotlib\n",
    "import os\n",
    "import pandas as pd\n",
    "\n",
    "%matplotlib inline"
   ]
  },
  {
   "cell_type": "markdown",
   "id": "4eeb3bdb",
   "metadata": {},
   "source": [
    "<hr>"
   ]
  },
  {
   "cell_type": "code",
   "execution_count": 2,
   "id": "7977c160",
   "metadata": {},
   "outputs": [
    {
     "data": {
      "text/html": [
       "<div>\n",
       "<style scoped>\n",
       "    .dataframe tbody tr th:only-of-type {\n",
       "        vertical-align: middle;\n",
       "    }\n",
       "\n",
       "    .dataframe tbody tr th {\n",
       "        vertical-align: top;\n",
       "    }\n",
       "\n",
       "    .dataframe thead th {\n",
       "        text-align: right;\n",
       "    }\n",
       "</style>\n",
       "<table border=\"1\" class=\"dataframe\">\n",
       "  <thead>\n",
       "    <tr style=\"text-align: right;\">\n",
       "      <th></th>\n",
       "      <th>Index</th>\n",
       "      <th>Author</th>\n",
       "      <th>Name</th>\n",
       "      <th>Url</th>\n",
       "      <th>Verrsion</th>\n",
       "      <th>Description</th>\n",
       "    </tr>\n",
       "  </thead>\n",
       "  <tbody>\n",
       "    <tr>\n",
       "      <th>0</th>\n",
       "      <td>0</td>\n",
       "      <td>elm</td>\n",
       "      <td>browser</td>\n",
       "      <td>https://package.elm-lang.org/packages/elm/brow...</td>\n",
       "      <td>1.0.2</td>\n",
       "      <td>Run Elm in browsers, with access to browser hi...</td>\n",
       "    </tr>\n",
       "    <tr>\n",
       "      <th>1</th>\n",
       "      <td>1</td>\n",
       "      <td>elm</td>\n",
       "      <td>bytes</td>\n",
       "      <td>https://package.elm-lang.org/packages/elm/byte...</td>\n",
       "      <td>1.0.8</td>\n",
       "      <td>Work with sequences of bytes (a.k.a. ArrayBuff...</td>\n",
       "    </tr>\n",
       "  </tbody>\n",
       "</table>\n",
       "</div>"
      ],
      "text/plain": [
       "  Index Author     Name                                                Url  \\\n",
       "0     0    elm  browser  https://package.elm-lang.org/packages/elm/brow...   \n",
       "1     1    elm    bytes  https://package.elm-lang.org/packages/elm/byte...   \n",
       "\n",
       "  Verrsion                                        Description  \n",
       "0    1.0.2  Run Elm in browsers, with access to browser hi...  \n",
       "1    1.0.8  Work with sequences of bytes (a.k.a. ArrayBuff...  "
      ]
     },
     "execution_count": 2,
     "metadata": {},
     "output_type": "execute_result"
    }
   ],
   "source": [
    "with open('../package_data/index.tsv', 'r') as f:\n",
    "    lines = [line.split('\\t') for line in f.readlines()]\n",
    "    \n",
    "df = pd.DataFrame(lines, columns=['Index', 'Author', 'Name', 'Url', 'Verrsion', 'Description'])\n",
    "df[:2]"
   ]
  },
  {
   "cell_type": "markdown",
   "id": "597af7a2",
   "metadata": {},
   "source": [
    "<hr>"
   ]
  },
  {
   "cell_type": "markdown",
   "id": "89277895",
   "metadata": {},
   "source": [
    "# Packages"
   ]
  },
  {
   "cell_type": "code",
   "execution_count": 3,
   "id": "3b4fa7d3",
   "metadata": {},
   "outputs": [
    {
     "data": {
      "text/plain": [
       "['About.html', 'README.html', 'Bytes.Parser.html']"
      ]
     },
     "execution_count": 3,
     "metadata": {},
     "output_type": "execute_result"
    }
   ],
   "source": [
    "os.listdir(f'../package_data/1450')"
   ]
  },
  {
   "cell_type": "code",
   "execution_count": 4,
   "id": "42b87f4b",
   "metadata": {},
   "outputs": [
    {
     "name": "stdout",
     "output_type": "stream",
     "text": [
      "Of 1457 total packages, 48 (3.3%) are missing source code\n"
     ]
    }
   ],
   "source": [
    "dirs = [dir for dir in os.listdir('../package_data/') \n",
    "        if 'index' not in dir]\n",
    "\n",
    "missing = 0\n",
    "for dir in dirs:\n",
    "    if len(os.listdir(f'../package_data/{dir}')) <= 2:\n",
    "        missing += 1\n",
    "        \n",
    "missing_pct = missing / len(df)\n",
    "        \n",
    "print(f'Of {len(df)} total packages, {missing} ({missing_pct:.1%}) are missing source code')"
   ]
  },
  {
   "cell_type": "markdown",
   "id": "761f77da",
   "metadata": {},
   "source": [
    "<hr>"
   ]
  },
  {
   "cell_type": "markdown",
   "id": "40165bea",
   "metadata": {},
   "source": [
    "# Authors"
   ]
  },
  {
   "cell_type": "code",
   "execution_count": 5,
   "id": "7a564cf3",
   "metadata": {},
   "outputs": [
    {
     "name": "stdout",
     "output_type": "stream",
     "text": [
      "There are 623 authors.\n"
     ]
    }
   ],
   "source": [
    "print(f'There are {df[\"Author\"].nunique()} authors.')"
   ]
  },
  {
   "cell_type": "markdown",
   "id": "fcb1b703",
   "metadata": {},
   "source": [
    "**Histogram of # of Packages per Author**"
   ]
  },
  {
   "cell_type": "code",
   "execution_count": 6,
   "id": "5d281c56",
   "metadata": {},
   "outputs": [
    {
     "data": {
      "text/plain": [
       "array([[<AxesSubplot:title={'center':'Count'}>]], dtype=object)"
      ]
     },
     "execution_count": 6,
     "metadata": {},
     "output_type": "execute_result"
    },
    {
     "data": {
      "image/png": "[encoded data removed]",
      "text/plain": [
       "<Figure size 432x288 with 1 Axes>"
      ]
     },
     "metadata": {
      "needs_background": "light"
     },
     "output_type": "display_data"
    }
   ],
   "source": [
    "df_authors = df[['Index', 'Author']].groupby('Author').count()\n",
    "df_authors.rename(columns={'Index':'Count'}, inplace=True)\n",
    "df_authors.hist(bins=20)"
   ]
  },
  {
   "cell_type": "markdown",
   "id": "99c38c05",
   "metadata": {},
   "source": [
    "**Top 10 Authors**"
   ]
  },
  {
   "cell_type": "code",
   "execution_count": 7,
   "id": "7d6ac33e",
   "metadata": {},
   "outputs": [
    {
     "data": {
      "text/html": [
       "<div>\n",
       "<style scoped>\n",
       "    .dataframe tbody tr th:only-of-type {\n",
       "        vertical-align: middle;\n",
       "    }\n",
       "\n",
       "    .dataframe tbody tr th {\n",
       "        vertical-align: top;\n",
       "    }\n",
       "\n",
       "    .dataframe thead th {\n",
       "        text-align: right;\n",
       "    }\n",
       "</style>\n",
       "<table border=\"1\" class=\"dataframe\">\n",
       "  <thead>\n",
       "    <tr style=\"text-align: right;\">\n",
       "      <th></th>\n",
       "      <th>Count</th>\n",
       "    </tr>\n",
       "    <tr>\n",
       "      <th>Author</th>\n",
       "      <th></th>\n",
       "    </tr>\n",
       "  </thead>\n",
       "  <tbody>\n",
       "    <tr>\n",
       "      <th>the-sett</th>\n",
       "      <td>28</td>\n",
       "    </tr>\n",
       "    <tr>\n",
       "      <th>billstclair</th>\n",
       "      <td>23</td>\n",
       "    </tr>\n",
       "    <tr>\n",
       "      <th>NoRedInk</th>\n",
       "      <td>23</td>\n",
       "    </tr>\n",
       "    <tr>\n",
       "      <th>jfmengels</th>\n",
       "      <td>22</td>\n",
       "    </tr>\n",
       "    <tr>\n",
       "      <th>jxxcarlson</th>\n",
       "      <td>18</td>\n",
       "    </tr>\n",
       "    <tr>\n",
       "      <th>arowM</th>\n",
       "      <td>18</td>\n",
       "    </tr>\n",
       "    <tr>\n",
       "      <th>elm-community</th>\n",
       "      <td>16</td>\n",
       "    </tr>\n",
       "    <tr>\n",
       "      <th>ianmackenzie</th>\n",
       "      <td>16</td>\n",
       "    </tr>\n",
       "    <tr>\n",
       "      <th>elm</th>\n",
       "      <td>15</td>\n",
       "    </tr>\n",
       "    <tr>\n",
       "      <th>tricycle</th>\n",
       "      <td>15</td>\n",
       "    </tr>\n",
       "  </tbody>\n",
       "</table>\n",
       "</div>"
      ],
      "text/plain": [
       "               Count\n",
       "Author              \n",
       "the-sett          28\n",
       "billstclair       23\n",
       "NoRedInk          23\n",
       "jfmengels         22\n",
       "jxxcarlson        18\n",
       "arowM             18\n",
       "elm-community     16\n",
       "ianmackenzie      16\n",
       "elm               15\n",
       "tricycle          15"
      ]
     },
     "execution_count": 7,
     "metadata": {},
     "output_type": "execute_result"
    }
   ],
   "source": [
    "\n",
    "df_authors.sort_values(by='Count', ascending=False)[:10]"
   ]
  },
  {
   "cell_type": "code",
   "execution_count": 11,
   "id": "eed5f88e",
   "metadata": {},
   "outputs": [
    {
     "data": {
      "text/plain": [
       "Count    466\n",
       "dtype: int64"
      ]
     },
     "execution_count": 11,
     "metadata": {},
     "output_type": "execute_result"
    }
   ],
   "source": [
    "df_authors.sort_values(by='Count', ascending=False)[:40].sum()"
   ]
  },
  {
   "cell_type": "code",
   "execution_count": 15,
   "id": "271a3fd2",
   "metadata": {},
   "outputs": [
    {
     "name": "stdout",
     "output_type": "stream",
     "text": [
      "Top 40 authors account for 32.0% of packages\n"
     ]
    }
   ],
   "source": [
    "print(f'Top 40 authors account for {466 / len(df):.1%} of packages')"
   ]
  }
 ],
 "metadata": {
  "kernelspec": {
   "display_name": "Python 3",
   "language": "python",
   "name": "python3"
  },
  "language_info": {
   "codemirror_mode": {
    "name": "ipython",
    "version": 3
   },
   "file_extension": ".py",
   "mimetype": "text/x-python",
   "name": "python",
   "nbconvert_exporter": "python",
   "pygments_lexer": "ipython3",
   "version": "3.9.6"
  }
 },
 "nbformat": 4,
 "nbformat_minor": 5
}
